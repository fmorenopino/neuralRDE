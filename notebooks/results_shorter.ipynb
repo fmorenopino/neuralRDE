{
 "cells": [
  {
   "cell_type": "code",
   "execution_count": 1,
   "metadata": {},
   "outputs": [],
   "source": [
    "import sys; sys.path.append('../')"
   ]
  },
  {
   "cell_type": "code",
   "execution_count": 2,
   "metadata": {},
   "outputs": [],
   "source": [
    "import numpy as np\n",
    "import pandas as pd\n",
    "import matplotlib.pyplot as plt\n",
    "import seaborn as sns\n",
    "from mpl_toolkits.axes_grid1.inset_locator import zoomed_inset_axes"
   ]
  },
  {
   "cell_type": "code",
   "execution_count": 3,
   "metadata": {},
   "outputs": [],
   "source": [
    "from experiments.parse_results import parse_results"
   ]
  },
  {
   "cell_type": "code",
   "execution_count": 4,
   "metadata": {},
   "outputs": [],
   "source": [
    "def fix_index(all_results):\n",
    "    all_results.reset_index(inplace=True)\n",
    "    all_results['depth'] = all_results['depth'].astype(int)\n",
    "    all_results['step'] = all_results['step'].astype(int)\n",
    "    all_results = all_results.set_index(['depth', 'step'])\n",
    "    all_results = all_results.sort_index(level=['depth', 'step'])\n",
    "    return all_results"
   ]
  },
  {
   "cell_type": "code",
   "execution_count": 5,
   "metadata": {},
   "outputs": [],
   "source": [
    "def convert_to_mean_std_string(df, col='loss.test', round_num=2):\n",
    "    std = df.groupby(['depth', 'step'], as_index=True).std().round(round_num)\n",
    "    mean = df.groupby(['depth', 'step'], as_index=True).mean().round(round_num)\n",
    "    string_it = mean[col].astype(str) + ' $\\pm$ ' + std[col].astype(str)\n",
    "    return mean, string_it"
   ]
  },
  {
   "cell_type": "code",
   "execution_count": 6,
   "metadata": {},
   "outputs": [],
   "source": [
    "def extract_multiindex_step(df, steps=[1, 8, 32, 128]):\n",
    "    return df.iloc[[True if x in [1, 8, 32, 128] else False for x in df.index.get_level_values(1)]]"
   ]
  },
  {
   "cell_type": "markdown",
   "metadata": {},
   "source": [
    "# EigenWorms Table"
   ]
  },
  {
   "cell_type": "code",
   "execution_count": 16,
   "metadata": {},
   "outputs": [
    {
     "name": "stdout",
     "output_type": "stream",
     "text": [
      "Could not load metrics at: /nfs/home/fernandom/github/neuralRDE/experiments/models_final/UEA/EigenWorms/gru/summary_gru.csv. Failed with error:\n",
      "\t\"[Errno 20] Not a directory: '/nfs/home/fernandom/github/neuralRDE/experiments/models_final/UEA/EigenWorms/gru/summary_gru.csv/config.json'\"\n"
     ]
    }
   ],
   "source": [
    "# Get data\n",
    "model='gru'\n",
    "ew = parse_results('UEA', \n",
    "                   'EigenWorms', \n",
    "                   'gru', \n",
    "                   sort_key='test',\n",
    "                   average_over=None, \n",
    "                   print_frame=False, \n",
    "                   pretty_std=False)\n",
    "ew['acc.test'] = (ew['acc.test'] * 100)\n",
    "ew['acc.val'] = (ew['acc.val'] * 100)\n",
    "ew['acc.train'] = (ew['acc.train'] * 100)"
   ]
  },
  {
   "cell_type": "code",
   "execution_count": 14,
   "metadata": {},
   "outputs": [],
   "source": [
    "ew.to_csv('/nfs/home/fernandom/github/neuralRDE/experiments/models_final/UEA/EigenWorms/'+model+'/summary_'+model+'.csv')"
   ]
  },
  {
   "cell_type": "markdown",
   "metadata": {},
   "source": [
    "# Creating a BIDMC Results table"
   ]
  },
  {
   "cell_type": "code",
   "execution_count": 10,
   "metadata": {},
   "outputs": [
    {
     "ename": "AssertionError",
     "evalue": "No run folder exists at: /nfs/home/fernandom/github/neuralRDE/experiments/models/TSR/BIDMC32RR/main_adjoint",
     "output_type": "error",
     "traceback": [
      "\u001b[0;31m---------------------------------------------------------------------------\u001b[0m",
      "\u001b[0;31mAssertionError\u001b[0m                            Traceback (most recent call last)",
      "Cell \u001b[0;32mIn[10], line 9\u001b[0m\n\u001b[1;32m      1\u001b[0m \u001b[38;5;66;03m# Get data\u001b[39;00m\n\u001b[1;32m      2\u001b[0m get_frame \u001b[38;5;241m=\u001b[39m \u001b[38;5;28;01mlambda\u001b[39;00m name: parse_results(\u001b[38;5;124m'\u001b[39m\u001b[38;5;124mTSR\u001b[39m\u001b[38;5;124m'\u001b[39m, \n\u001b[1;32m      3\u001b[0m                                        name, \n\u001b[1;32m      4\u001b[0m                                        \u001b[38;5;124m'\u001b[39m\u001b[38;5;124mmain_adjoint\u001b[39m\u001b[38;5;124m'\u001b[39m, \n\u001b[0;32m   (...)\u001b[0m\n\u001b[1;32m      7\u001b[0m                                        print_frame\u001b[38;5;241m=\u001b[39m\u001b[38;5;28;01mFalse\u001b[39;00m, \n\u001b[1;32m      8\u001b[0m                                        pretty_std\u001b[38;5;241m=\u001b[39m\u001b[38;5;28;01mFalse\u001b[39;00m)\n\u001b[0;32m----> 9\u001b[0m rr \u001b[38;5;241m=\u001b[39m \u001b[43mget_frame\u001b[49m\u001b[43m(\u001b[49m\u001b[38;5;124;43m'\u001b[39;49m\u001b[38;5;124;43mBIDMC32RR\u001b[39;49m\u001b[38;5;124;43m'\u001b[39;49m\u001b[43m)\u001b[49m\n\u001b[1;32m     10\u001b[0m hr \u001b[38;5;241m=\u001b[39m get_frame(\u001b[38;5;124m'\u001b[39m\u001b[38;5;124mBIDMC32HR\u001b[39m\u001b[38;5;124m'\u001b[39m)\n\u001b[1;32m     11\u001b[0m sp \u001b[38;5;241m=\u001b[39m get_frame(\u001b[38;5;124m'\u001b[39m\u001b[38;5;124mBIDMC32SpO2\u001b[39m\u001b[38;5;124m'\u001b[39m)\n",
      "Cell \u001b[0;32mIn[10], line 2\u001b[0m, in \u001b[0;36m<lambda>\u001b[0;34m(name)\u001b[0m\n\u001b[1;32m      1\u001b[0m \u001b[38;5;66;03m# Get data\u001b[39;00m\n\u001b[0;32m----> 2\u001b[0m get_frame \u001b[38;5;241m=\u001b[39m \u001b[38;5;28;01mlambda\u001b[39;00m name: \u001b[43mparse_results\u001b[49m\u001b[43m(\u001b[49m\u001b[38;5;124;43m'\u001b[39;49m\u001b[38;5;124;43mTSR\u001b[39;49m\u001b[38;5;124;43m'\u001b[39;49m\u001b[43m,\u001b[49m\u001b[43m \u001b[49m\n\u001b[1;32m      3\u001b[0m \u001b[43m                                       \u001b[49m\u001b[43mname\u001b[49m\u001b[43m,\u001b[49m\u001b[43m \u001b[49m\n\u001b[1;32m      4\u001b[0m \u001b[43m                                       \u001b[49m\u001b[38;5;124;43m'\u001b[39;49m\u001b[38;5;124;43mmain_adjoint\u001b[39;49m\u001b[38;5;124;43m'\u001b[39;49m\u001b[43m,\u001b[49m\u001b[43m \u001b[49m\n\u001b[1;32m      5\u001b[0m \u001b[43m                                       \u001b[49m\u001b[43msort_key\u001b[49m\u001b[38;5;241;43m=\u001b[39;49m\u001b[38;5;124;43m'\u001b[39;49m\u001b[38;5;124;43mtest\u001b[39;49m\u001b[38;5;124;43m'\u001b[39;49m\u001b[43m,\u001b[49m\n\u001b[1;32m      6\u001b[0m \u001b[43m                                       \u001b[49m\u001b[43maverage_over\u001b[49m\u001b[38;5;241;43m=\u001b[39;49m\u001b[38;5;28;43;01mNone\u001b[39;49;00m\u001b[43m,\u001b[49m\u001b[43m \u001b[49m\n\u001b[1;32m      7\u001b[0m \u001b[43m                                       \u001b[49m\u001b[43mprint_frame\u001b[49m\u001b[38;5;241;43m=\u001b[39;49m\u001b[38;5;28;43;01mFalse\u001b[39;49;00m\u001b[43m,\u001b[49m\u001b[43m \u001b[49m\n\u001b[1;32m      8\u001b[0m \u001b[43m                                       \u001b[49m\u001b[43mpretty_std\u001b[49m\u001b[38;5;241;43m=\u001b[39;49m\u001b[38;5;28;43;01mFalse\u001b[39;49;00m\u001b[43m)\u001b[49m\n\u001b[1;32m      9\u001b[0m rr \u001b[38;5;241m=\u001b[39m get_frame(\u001b[38;5;124m'\u001b[39m\u001b[38;5;124mBIDMC32RR\u001b[39m\u001b[38;5;124m'\u001b[39m)\n\u001b[1;32m     10\u001b[0m hr \u001b[38;5;241m=\u001b[39m get_frame(\u001b[38;5;124m'\u001b[39m\u001b[38;5;124mBIDMC32HR\u001b[39m\u001b[38;5;124m'\u001b[39m)\n",
      "File \u001b[0;32m~/github/neuralRDE/notebooks/../experiments/parse_results.py:32\u001b[0m, in \u001b[0;36mparse_results\u001b[0;34m(folder, dataset, config_name, sort_key, average_over, havok, print_frame, pretty_std)\u001b[0m\n\u001b[1;32m     30\u001b[0m havok_str \u001b[38;5;241m=\u001b[39m \u001b[38;5;124m'\u001b[39m\u001b[38;5;124mhavok/\u001b[39m\u001b[38;5;124m'\u001b[39m \u001b[38;5;28;01mif\u001b[39;00m havok \u001b[38;5;28;01melse\u001b[39;00m \u001b[38;5;124m'\u001b[39m\u001b[38;5;124m'\u001b[39m\n\u001b[1;32m     31\u001b[0m ex_dir \u001b[38;5;241m=\u001b[39m ROOT_DIR \u001b[38;5;241m+\u001b[39m \u001b[38;5;124m'\u001b[39m\u001b[38;5;124m/experiments/models/\u001b[39m\u001b[38;5;132;01m{}\u001b[39;00m\u001b[38;5;132;01m{}\u001b[39;00m\u001b[38;5;124m/\u001b[39m\u001b[38;5;132;01m{}\u001b[39;00m\u001b[38;5;124m/\u001b[39m\u001b[38;5;132;01m{}\u001b[39;00m\u001b[38;5;124m'\u001b[39m\u001b[38;5;241m.\u001b[39mformat(havok_str, folder, dataset, config_name)\n\u001b[0;32m---> 32\u001b[0m frame \u001b[38;5;241m=\u001b[39m \u001b[43mcreate_run_frame\u001b[49m\u001b[43m(\u001b[49m\u001b[43mex_dir\u001b[49m\u001b[43m)\u001b[49m\n\u001b[1;32m     33\u001b[0m \u001b[38;5;66;03m# Assume a metric\u001b[39;00m\n\u001b[1;32m     34\u001b[0m metric \u001b[38;5;241m=\u001b[39m \u001b[38;5;124m'\u001b[39m\u001b[38;5;124macc\u001b[39m\u001b[38;5;124m'\u001b[39m \u001b[38;5;28;01mif\u001b[39;00m \u001b[38;5;124m'\u001b[39m\u001b[38;5;124macc.val\u001b[39m\u001b[38;5;124m'\u001b[39m \u001b[38;5;129;01min\u001b[39;00m frame\u001b[38;5;241m.\u001b[39mcolumns \u001b[38;5;28;01melse\u001b[39;00m \u001b[38;5;124m'\u001b[39m\u001b[38;5;124mloss\u001b[39m\u001b[38;5;124m'\u001b[39m\n",
      "File \u001b[0;32m~/github/neuralRDE/notebooks/../experiments/utils/extract.py:22\u001b[0m, in \u001b[0;36mcreate_run_frame\u001b[0;34m(ex_dir)\u001b[0m\n\u001b[1;32m     13\u001b[0m \u001b[38;5;28;01mdef\u001b[39;00m \u001b[38;5;21mcreate_run_frame\u001b[39m(ex_dir):\n\u001b[1;32m     14\u001b[0m \u001b[38;5;250m    \u001b[39m\u001b[38;5;124;03m\"\"\"Creates a DataFrame from the run saves.\u001b[39;00m\n\u001b[1;32m     15\u001b[0m \n\u001b[1;32m     16\u001b[0m \u001b[38;5;124;03m    Args:\u001b[39;00m\n\u001b[0;32m   (...)\u001b[0m\n\u001b[1;32m     20\u001b[0m \u001b[38;5;124;03m        pd.DataFrame: A pandas dataframe containing all results from the run.\u001b[39;00m\n\u001b[1;32m     21\u001b[0m \u001b[38;5;124;03m    \"\"\"\u001b[39;00m\n\u001b[0;32m---> 22\u001b[0m     \u001b[38;5;28;01massert\u001b[39;00m os\u001b[38;5;241m.\u001b[39mpath\u001b[38;5;241m.\u001b[39mexists(ex_dir), \u001b[38;5;124m\"\u001b[39m\u001b[38;5;124mNo run folder exists at: \u001b[39m\u001b[38;5;132;01m{}\u001b[39;00m\u001b[38;5;124m\"\u001b[39m\u001b[38;5;241m.\u001b[39mformat(ex_dir)\n\u001b[1;32m     23\u001b[0m     run_nums \u001b[38;5;241m=\u001b[39m get_run_nums(ex_dir)\n\u001b[1;32m     25\u001b[0m     frames \u001b[38;5;241m=\u001b[39m []\n",
      "\u001b[0;31mAssertionError\u001b[0m: No run folder exists at: /nfs/home/fernandom/github/neuralRDE/experiments/models/TSR/BIDMC32RR/main_adjoint"
     ]
    }
   ],
   "source": [
    "# Get data\n",
    "get_frame = lambda name: parse_results('TSR', \n",
    "                                       name, \n",
    "                                       'hyperopt', \n",
    "                                       sort_key='test',\n",
    "                                       average_over=None, \n",
    "                                       print_frame=False, \n",
    "                                       pretty_std=False)\n",
    "rr = get_frame('BIDMC32RR')\n",
    "hr = get_frame('BIDMC32HR')\n",
    "sp = get_frame('BIDMC32SpO2')"
   ]
  },
  {
   "cell_type": "code",
   "execution_count": null,
   "metadata": {},
   "outputs": [],
   "source": [
    "ew.to_csv('/nfs/home/fernandom/github/neuralRDE/experiments/models_final/UEA/EigenWorms/hyperopt/summary.csv')"
   ]
  },
  {
   "cell_type": "markdown",
   "metadata": {},
   "source": [
    "If we want just the mean of mem usage, time taken"
   ]
  }
 ],
 "metadata": {
  "kernelspec": {
   "display_name": "py38",
   "language": "python",
   "name": "python3"
  },
  "language_info": {
   "codemirror_mode": {
    "name": "ipython",
    "version": 3
   },
   "file_extension": ".py",
   "mimetype": "text/x-python",
   "name": "python",
   "nbconvert_exporter": "python",
   "pygments_lexer": "ipython3",
   "version": "3.10.13"
  }
 },
 "nbformat": 4,
 "nbformat_minor": 4
}
